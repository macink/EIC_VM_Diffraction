{
 "cells": [
  {
   "cell_type": "code",
   "execution_count": 1,
   "id": "cb4fbb4f-1d97-4e61-a26a-d0fbdb3eac2c",
   "metadata": {},
   "outputs": [],
   "source": [
    "#include \"FormFactor_transform_resolution_add_wedge_2D.h\"\n",
    "#include \"FormFactor_t_2D.h\"\n",
    "#include \"WoodsSaxon_2D.h\""
   ]
  },
  {
   "cell_type": "code",
   "execution_count": 2,
   "id": "7f016bb0-dc50-4409-8f6e-20630236ac1b",
   "metadata": {},
   "outputs": [],
   "source": [
    "double bins = 1000, x_min = 0, x_max = 15, y_min = 0, y_max = 15;\n",
    "double phi_min = 0, phi_max = pi/9, sigma = 0.1;\n",
    "\n",
    "// Initialize constructor\n",
    "FormFactor_transform_resolution_add_wedge_2D ff_wResCut;"
   ]
  },
  {
   "cell_type": "code",
   "execution_count": null,
   "id": "9ede56f9-561f-4822-8949-6523987a516a",
   "metadata": {},
   "outputs": [],
   "source": [
    "TH2D *test2 = ff_wResCut.hist2(\"\", \"\",bins,x_min,x_max,y_min,y_max,phi_min,phi_max,sigma);\n",
    "    test2->ProjectionY()->Draw();\n",
    "\n",
    "c1->Draw();"
   ]
  },
  {
   "cell_type": "code",
   "execution_count": null,
   "id": "7b35e22b-19eb-4537-a004-cd7fefb7dfa6",
   "metadata": {},
   "outputs": [],
   "source": []
  },
  {
   "cell_type": "code",
   "execution_count": null,
   "id": "fe1f89c5-5472-419d-a288-51112423f46e",
   "metadata": {},
   "outputs": [],
   "source": [
    "double A = 197, Vo = 2.12, R = 6.38, a0 = 0.7, a = 0.535;\n",
    "double ty_min = 0, ty_max = 0.25, tx_min = 0, tx_max = 0.25, bins = 1000;\n",
    "double x_min = 0, x_max = 15, y_min = 0, y_max = 15;\n",
    "\n",
    "// Initialize constructors\n",
    "FormFactor_t_2D ff_2d(A,Vo,R,a0,tx_min,tx_max,ty_min,ty_max,bins,x_min,x_max,y_min,y_max);\n",
    "WoodsSaxon_2D ws_2d(Vo,R,a,x_min,x_max,y_min,y_max,bins,tx_min,tx_max,ty_min,ty_max);"
   ]
  },
  {
   "cell_type": "code",
   "execution_count": null,
   "id": "13ee2ea2-930e-4d47-9a14-ff8ed248da93",
   "metadata": {},
   "outputs": [],
   "source": [
    "TF2 *ws_fun = ws_2d.getWoodsSaxon2D();\n",
    "    double trueWSIntegral = ws_fun->Integral(ws_fun->GetXmin(), ws_fun->GetXmax());\n",
    "    TF2 *normalizedTrueWS = new TF2(\"\", [ws_fun, trueWSIntegral](double *x, double *par) \n",
    "    {\n",
    "        return ws_fun->Eval(x[0], x[1]) / trueWSIntegral;\n",
    "    }, ws_fun->GetXmin(), ws_fun->GetXmax(), ws_fun->GetYmin(), ws_fun->GetYmax(), 0);\n",
    "    normalizedTrueWS->SetTitle(\"Fourier-Bessel Transformation from |F(t_{x},t_{y})|^{2} to G(x,y)\");\n",
    "    normalizedTrueWS->GetZaxis()->SetTitle(\"G(x,y) [fm^{-3}\");\n",
    "    normalizedTrueWS->GetXaxis()->SetTitle(\"x [fm]\");\n",
    "    normalizedTrueWS->GetYaxis()->SetTitle(\"y [fm]\");\n",
    "    normalizedTrueWS->SetLineStyle(2);\n",
    "    normalizedTrueWS->SetLineColor(kRed);\n",
    "    normalizedTrueWS->Draw();\n",
    "\n",
    "TF2 *transformed_ff = ff_2d.getTransformed_TF2();\n",
    "    double transformedFFIntegral = transformed_ff->Integral(transformed_ff->GetXmin(), transformed_ff->GetXmax());\n",
    "    TF2 *normalizedTransformedFF = new TF2(\"\", [transformed_ff, transformedFFIntegral](double *x, double *par) \n",
    "    {\n",
    "        return transformed_ff->Eval(x[0], x[1]) / transformedFFIntegral;\n",
    "    }, transformed_ff->GetXmin(), transformed_ff->GetXmax(), transformed_ff->GetYmin(), transformed_ff->GetYmax(), 0);\n",
    "    normalizedTransformedFF->SetLineStyle(10);\n",
    "    normalizedTransformedFF->SetLineColor(kOrange);\n",
    "    normalizedTransformedFF->Draw(\"same\");\n",
    "\n",
    "auto legend = new TLegend(0.63,0.75,0.9,0.9);\n",
    "\tlegend->AddEntry(normalizedTrueWS,\"True Woods-Saxon\",\"l\");\n",
    "    legend->AddEntry(normalizedTransformedFF,\"Transformed Form Factor\",\"l\");\n",
    "    legend->Draw();\n",
    "\n",
    "c1->Draw();"
   ]
  }
 ],
 "metadata": {
  "kernelspec": {
   "display_name": "ROOT C++",
   "language": "c++",
   "name": "root"
  },
  "language_info": {
   "codemirror_mode": "text/x-c++src",
   "file_extension": ".C",
   "mimetype": " text/x-c++src",
   "name": "c++"
  }
 },
 "nbformat": 4,
 "nbformat_minor": 5
}
