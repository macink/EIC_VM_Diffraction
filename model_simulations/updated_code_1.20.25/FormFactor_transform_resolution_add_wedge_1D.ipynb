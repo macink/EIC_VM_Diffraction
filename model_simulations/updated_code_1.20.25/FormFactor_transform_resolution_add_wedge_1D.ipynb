{
 "cells": [
  {
   "cell_type": "code",
   "execution_count": 1,
   "id": "2f908ae2-7cc3-4bc4-be7d-366c97e22c73",
   "metadata": {},
   "outputs": [],
   "source": [
    "#include \"FormFactor_transform_resolution_add_wedge_1D.h\""
   ]
  },
  {
   "cell_type": "markdown",
   "id": "9b3f8539-d8c8-489c-a686-7fb4d7a60cf2",
   "metadata": {},
   "source": [
    "### Parameters for functions below"
   ]
  },
  {
   "cell_type": "code",
   "execution_count": null,
   "id": "8d568042-80c9-4fec-bd50-180f5136dc4a",
   "metadata": {},
   "outputs": [],
   "source": [
    "double A = 197, Vo = 2.12, R = 6.38, a0 = 0.7;\n",
    "double bins = 1000, r_min = 0, r_max = 15;\n",
    "double phi_min = 0, phi_max = pi/9, sigma = 0.1;\n",
    "\n",
    "// Initialize constructor\n",
    "FormFactor_transform_resolution_add_wedge_1D ff_trans_wResCut(A,Vo,R,a0,bins,phi_min,phi_max,sigma,r_min,r_max);"
   ]
  },
  {
   "cell_type": "markdown",
   "id": "0bd1f314-4695-4f4c-828f-7e40db700e84",
   "metadata": {},
   "source": [
    "### Compare transformation of form factor with Woods-Saxon distribution and with resolution and wedge cuts"
   ]
  },
  {
   "cell_type": "code",
   "execution_count": 1,
   "id": "57ef7cbf-3088-4c2e-90e5-168ce20f1750",
   "metadata": {},
   "outputs": [
    {
     "name": "stderr",
     "output_type": "stream",
     "text": [
      "\u001b[1minput_line_43:2:3: \u001b[0m\u001b[0;1;31merror: \u001b[0m\u001b[1muse of undeclared identifier 'ff_wResCut'\u001b[0m\n",
      " (ff_wResCut.getWedgeResTransform_fun_1D())\n",
      "\u001b[0;1;32m  ^\n",
      "\u001b[0mError in <HandleInterpreterException>: Error evaluating expression (ff_wResCut.getWedgeResTransform_fun_1D())\n",
      "Execution of your code was aborted.\n"
     ]
    }
   ],
   "source": [
    "TF1 *ff_transform_wResCut = ff_wResCut.getWedgeResTransform_fun_1D();\n",
    "    ff_transform_wResCut->SetTitle(\"Plot |F(t)|^{2} -> G(r) with Resolution and #pi/9 Wedge Cut Transformation\");\n",
    "    ff_transform_wResCut->GetYaxis()->SetTitle(\"G(r) [fm^{-3}]\");\n",
    "    ff_transform_wResCut->GetXaxis()->SetTitle(\"r [fm]\");\n",
    "    ff_transform_wResCut->Draw();"
   ]
  },
  {
   "cell_type": "code",
   "execution_count": 5,
   "id": "8ceed84d-db4b-4334-bfe0-5b00f1aa6bb6",
   "metadata": {},
   "outputs": [
    {
     "data": {
      "image/png": "[encoded data removed]",
      "text/plain": [
       "<IPython.core.display.Image object>"
      ]
     },
     "metadata": {},
     "output_type": "display_data"
    }
   ],
   "source": [
    "c1->Draw();"
   ]
  },
  {
   "cell_type": "code",
   "execution_count": 1,
   "id": "9184c06f-8b86-4774-8874-f0614ac55f69",
   "metadata": {},
   "outputs": [
    {
     "name": "stderr",
     "output_type": "stream",
     "text": [
      "In file included from input_line_42:2:\n",
      "\u001b[1m/home/macink/miniconda3/envs/bnl_research/macros/FormFactor_t_1D.h:54:44: \u001b[0m\u001b[0;1;31merror: \u001b[0m\u001b[1mcannot initialize an array element of type 'void *' with an rvalue of type 'const double *'\u001b[0m\n",
      "            return trans_integral.Integral(qq_min, qq_max, 1e-12);\n",
      "\u001b[0;1;32m                                           ^~~~~~\n",
      "\u001b[0m\u001b[1m/home/macink/miniconda3/envs/bnl_research/macros/FormFactor_t_1D.h:54:52: \u001b[0m\u001b[0;1;31merror: \u001b[0m\u001b[1mcannot initialize an array element of type 'void *' with an rvalue of type 'const double *'\u001b[0m\n",
      "            return trans_integral.Integral(qq_min, qq_max, 1e-12);\n",
      "\u001b[0;1;32m                                                   ^~~~~~\n",
      "\u001b[0m\u001b[1m/home/macink/miniconda3/envs/bnl_research/macros/FormFactor_t_1D.h:49:25: \u001b[0m\u001b[0;1;31merror: \u001b[0m\u001b[1mcannot initialize a parameter of type 'cling::runtime::internal::DynamicExprInfo *' with an rvalue of type 'TF1 *'\u001b[0m\n",
      "        transform_TF1 = new TF1(\"Fourier-Bessel Transformation: |F(t)|^{2} -> G(r)\", [this, qq_min, qq_max] (double *var, double *par)\n",
      "\u001b[0;1;32m                        ^~~~~~~~~~~~~~~~~~~~~~~~~~~~~~~~~~~~~~~~~~~~~~~~~~~~~~~~~~~~~~~~~~~~~~~~~~~~~~~~~~~~~~~~~~~~~~~~~~~~~~~~~~~~~~\n",
      "\u001b[0m\u001b[1m/home/macink/miniconda3/envs/bnl_research/etc/cling/Interpreter/RuntimeUniverse.h:53:7: \u001b[0m\u001b[0;1;30mnote: \u001b[0min instantiation of member function 'cling::runtime::internal::EvaluateT' requested here\u001b[0m\n",
      "      static int InterpreterGeneratedCodeDiagnosticsMaybeIncorrect;\n",
      "\u001b[0;1;32m      ^\n",
      "\u001b[0m\u001b[1m/home/macink/miniconda3/envs/bnl_research/etc/cling/Interpreter/DynamicLookupRuntimeUniverse.h:52:41: \u001b[0m\u001b[0;1;30mnote: \u001b[0mpassing argument to parameter 'ExprInfo' here\u001b[0m\n",
      "    inline T EvaluateT(DynamicExprInfo* ExprInfo, clang::DeclContext* DC ) {\n",
      "\u001b[0;1;32m                                        ^\n",
      "\u001b[0mIn file included from input_line_42:3:\n",
      "\u001b[1m/home/macink/miniconda3/envs/bnl_research/macros/WoodsSaxon_1D.h:58:48: \u001b[0m\u001b[0;1;31merror: \u001b[0m\u001b[1mcannot initialize an array element of type 'void *' with an rvalue of type 'const double *'\u001b[0m\n",
      "            return transform_integral.Integral(rr_min, rr_max, 1e-12)*transform_integral.Integral(rr_min, rr_max, 1e-12);\n",
      "\u001b[0;1;32m                                               ^~~~~~\n",
      "\u001b[0m\u001b[1m/home/macink/miniconda3/envs/bnl_research/macros/WoodsSaxon_1D.h:58:56: \u001b[0m\u001b[0;1;31merror: \u001b[0m\u001b[1mcannot initialize an array element of type 'void *' with an rvalue of type 'const double *'\u001b[0m\n",
      "            return transform_integral.Integral(rr_min, rr_max, 1e-12)*transform_integral.Integral(rr_min, rr_max, 1e-12);\n",
      "\u001b[0;1;32m                                                       ^~~~~~\n",
      "\u001b[0m\u001b[1m/home/macink/miniconda3/envs/bnl_research/macros/WoodsSaxon_1D.h:58:99: \u001b[0m\u001b[0;1;31merror: \u001b[0m\u001b[1mcannot initialize an array element of type 'void *' with an rvalue of type 'const double *'\u001b[0m\n",
      "            return transform_integral.Integral(rr_min, rr_max, 1e-12)*transform_integral.Integral(rr_min, rr_max, 1e-12);\n",
      "\u001b[0;1;32m                                                                                                  ^~~~~~\n",
      "\u001b[0m\u001b[1m/home/macink/miniconda3/envs/bnl_research/macros/WoodsSaxon_1D.h:58:107: \u001b[0m\u001b[0;1;31merror: \u001b[0m\u001b[1mcannot initialize an array element of type 'void *' with an rvalue of type 'const double *'\u001b[0m\n",
      "            return transform_integral.Integral(rr_min, rr_max, 1e-12)*transform_integral.Integral(rr_min, rr_max, 1e-12);\n",
      "\u001b[0;1;32m                                                                                                          ^~~~~~\n",
      "\u001b[0m\u001b[1m/home/macink/miniconda3/envs/bnl_research/macros/WoodsSaxon_1D.h:53:25: \u001b[0m\u001b[0;1;31merror: \u001b[0m\u001b[1mcannot initialize a parameter of type 'cling::runtime::internal::DynamicExprInfo *' with an rvalue of type 'TF1 *'\u001b[0m\n",
      "        transform_TF1 = new TF1(\"Fourier-Bessel Transformation: G(r) -> |F(t)|^{2}\", [this , rr_min, rr_max] (double *var, double *par)\n",
      "\u001b[0;1;32m                        ^~~~~~~~~~~~~~~~~~~~~~~~~~~~~~~~~~~~~~~~~~~~~~~~~~~~~~~~~~~~~~~~~~~~~~~~~~~~~~~~~~~~~~~~~~~~~~~~~~~~~~~~~~~~~~~\n",
      "\u001b[0m\u001b[1m/home/macink/miniconda3/envs/bnl_research/etc/cling/Interpreter/RuntimeUniverse.h:53:7: \u001b[0m\u001b[0;1;30mnote: \u001b[0min instantiation of member function 'cling::runtime::internal::EvaluateT' requested here\u001b[0m\n",
      "      static int InterpreterGeneratedCodeDiagnosticsMaybeIncorrect;\n",
      "\u001b[0;1;32m      ^\n",
      "\u001b[0m\u001b[1m/home/macink/miniconda3/envs/bnl_research/etc/cling/Interpreter/DynamicLookupRuntimeUniverse.h:52:41: \u001b[0m\u001b[0;1;30mnote: \u001b[0mpassing argument to parameter 'ExprInfo' here\u001b[0m\n",
      "    inline T EvaluateT(DynamicExprInfo* ExprInfo, clang::DeclContext* DC ) {\n",
      "\u001b[0;1;32m                                        ^\n",
      "\u001b[0m"
     ]
    }
   ],
   "source": [
    "#include \"FormFactor_t_1D.h\"\n",
    "#include \"WoodsSaxon_1D.h\"\n",
    "\n",
    "WoodsSaxon_1D ws_1d(Vo,R,a,r_min,r_max,bins,t_min,t_max);\n",
    "FormFactor_t_1D ff_1d(A,Vo,R,a0,t_min,t_max,bins,r_min,r_max);"
   ]
  },
  {
   "cell_type": "code",
   "execution_count": null,
   "id": "450b7675-0e30-4503-99ac-8b6ee30303ad",
   "metadata": {},
   "outputs": [],
   "source": [
    "TF1 *ws_fun = ws_1d.getWoodsSaxon1D();\n",
    "    double trueWSIntegral = ws_fun->Integral(ws_fun->GetXmin(), ws_fun->GetXmax());\n",
    "    TF1 *normalizedTrueWS = new TF1(\"\", [ws_fun, trueWSIntegral](double *x, double *par) \n",
    "    {\n",
    "        return ws_fun->Eval(x[0]) / trueWSIntegral;\n",
    "    }, ws_fun->GetXmin(), ws_fun->GetXmax(), 0);\n",
    "    normalizedTrueWS->SetTitle(\"Fourier-Bessel Transformation from |F(t)|^{2} to G(r)\");\n",
    "    normalizedTrueWS->GetYaxis()->SetTitle(\"G(r) [fm^{-3}\");\n",
    "    normalizedTrueWS->GetXaxis()->SetTitle(\"r [fm]\");\n",
    "    normalizedTrueWS->SetLineStyle(2);\n",
    "    normalizedTrueWS->SetLineColor(kBlack);\n",
    "    normalizedTrueWS->Draw();\n",
    "\n",
    "TF1 *transformed_ff = ff_1d.getTransformedFF_TF1();\n",
    "    double transformedFFIntegral = transformed_ff->Integral(transformed_ff->GetXmin(), transformed_ff->GetXmax());\n",
    "    TF1 *normalizedTransformedFF = new TF1(\"\", [transformed_ff, transformedFFIntegral](double *x, double *par) \n",
    "    {\n",
    "        return transformed_ff->Eval(x[0]) / transformedFFIntegral;\n",
    "    }, transformed_ff->GetXmin(), transformed_ff->GetXmax(), 0);\n",
    "    normalizedTransformedFF->SetLineStyle(4);\n",
    "    normalizedTransformedFF->SetLineColor(kOrange);\n",
    "    normalizedTransformedFF->Draw(\"same\");\n",
    "\n",
    "TF1 *ff_transform_wResCut2 = ff_wResCut.getWedgeResTransform_fun_1D();\n",
    "    double transFFIntegral = ff_transform_wResCut2->Integral(ff_transform_wResCut2->GetXmin(), ff_transform_wResCut2->GetXmax());\n",
    "    TF1 *normalizedTransFF = new TF1(\"\", [ff_transform_wResCut2, transFFIntegral](double *x, double *par) \n",
    "    {\n",
    "        return ff_transform_wResCut2->Eval(x[0]) / transFFIntegral;\n",
    "    }, ff_transform_wResCut2->GetXmin(), ff_transform_wResCut2->GetXmax(), 0);\n",
    "    normalizedTransFF->SetLineStyle(10);\n",
    "    normalizedTransFF->SetLineColor(kRed);\n",
    "    normalizedTransFF->Draw();\n",
    "\n",
    "auto legend = new TLegend(0.63,0.75,0.9,0.9);\n",
    "\tlegend->AddEntry(normalizedTrueWS,\"True Woods-Saxon\",\"l\");\n",
    "    legend->AddEntry(normalizedTransformedFF,\"Transformed True Form Factor\",\"l\");\n",
    "    legend->AddEntry(normalizedTransFF,\"Transformed FF with Added Resolution and Wedge Cut\",\"l\");\n",
    "    legend->Draw();\n",
    "\n",
    "c1->Draw();"
   ]
  },
  {
   "cell_type": "markdown",
   "id": "0dca1cdd-6f4e-4928-a3eb-487b4379bac7",
   "metadata": {},
   "source": [
    "### Compare histograms transformation of form factor with Woods-Saxon distribution and with resolution and wedge cuts"
   ]
  },
  {
   "cell_type": "code",
   "execution_count": null,
   "id": "442be67f-aad0-4ac7-9c6b-1be1202e1946",
   "metadata": {},
   "outputs": [],
   "source": [
    "TH1D *transformed_ff_wResCut = ff_wResCut.getWedgeResTransform_hist_1D();\n",
    "    ftransformed_ff_wResCut->SetTitle(\"Histogram of |F(t)|^{2} with Resolution and #pi/9 Wedge Cut\");\n",
    "    transformed_ff_wResCut->GetYaxis()->SetTitle(\"|F(t)|^{2}\");\n",
    "    transformed_ff_wResCut->GetXaxis()->SetTitle(\"t [GeV^{2}]\");\n",
    "    transformed_ff_wResCut->Scale(197./transformed_ff_wResCut->Integral(), \"width\");\n",
    "    transformed_ff_wResCut->SetLineStyle(10);\n",
    "    transformed_ff_wResCut->SetLineColor(kRed);\n",
    "    transformed_ff_wResCut->Draw();\n",
    "\n",
    "TH1D *ff_hist_5 = ff_1d.getTransformedFF_hist();\n",
    "    ff_hist_5->SetTitle(\"Histogram of |F(t)|^{2} with Resolution and #pi/9 Wedge Cut\");\n",
    "    ff_hist_5->GetYaxis()->SetTitle(\"|F(t)|^{2}\");\n",
    "    ff_hist_5->GetXaxis()->SetTitle(\"t [GeV^{2}]\");\n",
    "    ff_hist_5->SetLineStyle(4);\n",
    "    ff_hist_5->SetLineColor(kOrange);\n",
    "    ff_hist_5->Scale(197./ff_hist_5->Integral(), \"width\");\n",
    "    ff_hist_5->Draw();\n",
    "\n",
    "TH1D *ff_hist_50 = ws_1d.getWS_hist();\n",
    "    ff_hist_50->SetLineStyle(2);\n",
    "    ff_hist_50->SetLineColor(kBlack);\n",
    "    ff_hist_50->Scale(197./ff_hist_50->Integral(), \"width\");\n",
    "    ff_hist_50->Draw(\"same\");\n",
    "\n",
    "auto legend = new TLegend(0.53,0.65,0.9,0.9);\n",
    "\tlegend->AddEntry(ff_hist_5,\"True Woods-Saxon\",\"l\");\n",
    "    legend->AddEntry(ff_hist_50,\"Transformed True Form Factor\",\"l\");\n",
    "    legend->AddEntry(transformed_ff_wResCut,\"Transformed FF with Added Resolution and Wedge Cut\",\"l\");\n",
    "    legend->Draw();\n",
    "\n",
    "gPad->SetLogy(0);\n",
    "gStyle->SetOptStat(0);\n",
    "c1->Draw();"
   ]
  }
 ],
 "metadata": {
  "kernelspec": {
   "display_name": "ROOT C++",
   "language": "c++",
   "name": "root"
  },
  "language_info": {
   "codemirror_mode": "text/x-c++src",
   "file_extension": ".C",
   "mimetype": " text/x-c++src",
   "name": "c++"
  }
 },
 "nbformat": 4,
 "nbformat_minor": 5
}
