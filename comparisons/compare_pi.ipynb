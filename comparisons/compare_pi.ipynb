{
 "cells": [
  {
   "cell_type": "markdown",
   "id": "b3e5d713-7645-48b3-9fc1-7ed3d4b33d88",
   "metadata": {},
   "source": [
    "# Compare 1D form factors with:\n",
    "* wedge cut $\\phi = \\pi$ and different values for the detector resolution ($\\sigma$)\n",
    "* add saturation model\n",
    "* transformation into position space"
   ]
  },
  {
   "cell_type": "code",
   "execution_count": 1,
   "id": "fbf48d7a-30b3-41a0-b5f0-ff23aeccb521",
   "metadata": {},
   "outputs": [],
   "source": [
    "#include \"FormFactor_transform_resolution_add_wedge_1D.h\"\n",
    "#include \"FormFactor_resolution_add_wedge_1D.h\"\n",
    "#include \"FormFactor_t_1D.h\"\n",
    "#include \"FormFactor_t_2D.h\"\n",
    "#include \"WoodsSaxon_1D.h\"\n",
    "#include \"FormFactor_saturation_data.h\""
   ]
  },
  {
   "cell_type": "markdown",
   "id": "1076ea9c-84bd-4fab-b75f-09b90c6cd4ec",
   "metadata": {},
   "source": [
    "### Parameters for functions below"
   ]
  },
  {
   "cell_type": "code",
   "execution_count": 2,
   "id": "186571d6-b270-44b7-80c7-7e8f4d9803b2",
   "metadata": {},
   "outputs": [],
   "source": [
    "double A = 197, Vo = 2.12, R = 6.38, a0 = 0.7, a = 0.535;\n",
    "double bins = 1000, phi_min = 0, phi_max = pi;\n",
    "double tx_min = 0, tx_max = 0.1, ty_min = 0, ty_max = 0.1;\n",
    "double x_min = 0, x_max = 15, y_min = 0, y_max = 15;\n",
    "\n",
    "//sigma = 5 MeV, 50 MeV, 100 MeV, 150 MeV respectively\n",
    "double sigma5 = 0.005, sigma50 = 0.05, sigma100 = 0.1, sigma150 = 0.15;\n",
    "\n",
    "// 1D params\n",
    "double t_min = 0, t_max = 0.1, q_min = 0, q_max = 0.316;\n",
    "double r_min = 0, r_max = 15;"
   ]
  },
  {
   "cell_type": "markdown",
   "id": "f0f966ae-091d-49f6-9c18-58204fd56eb7",
   "metadata": {},
   "source": [
    "### Initialize constructors to make comparisions"
   ]
  },
  {
   "cell_type": "code",
   "execution_count": 3,
   "id": "0752a9ea-f584-4b60-b216-8c41ffa8b9c1",
   "metadata": {},
   "outputs": [],
   "source": [
    "WoodsSaxon_1D ws_1d(Vo,R,a,r_min,r_max,bins,t_min,t_max);\n",
    "\n",
    "FormFactor_t_1D ff_1d(A,Vo,R,a0,t_min,t_max,bins,r_min,r_max);"
   ]
  },
  {
   "cell_type": "code",
   "execution_count": null,
   "id": "d94b31a6-6195-4713-a530-b86105420c1d",
   "metadata": {},
   "outputs": [],
   "source": [
    "FormFactor_resolution_add_wedge_1D ff_wResCut_1d_5(A,Vo,R,a0,t_min,t_max,bins,phi_min,phi_max,sigma5,r_min,r_max);"
   ]
  },
  {
   "cell_type": "code",
   "execution_count": 4,
   "id": "e7af9921-a42d-4993-a875-67a43d97ca9a",
   "metadata": {},
   "outputs": [],
   "source": [
    "FormFactor_resolution_add_wedge_1D ff_wResCut_1d_50(A,Vo,R,a0,t_min,t_max,bins,phi_min,phi_max,sigma50,r_min,r_max);"
   ]
  },
  {
   "cell_type": "code",
   "execution_count": 5,
   "id": "8749d350-f96a-4e2d-bf0a-654b97255ee1",
   "metadata": {},
   "outputs": [
    {
     "name": "stderr",
     "output_type": "stream",
     "text": [
      "Warning in <TROOT::Append>: Replacing existing TH1: FF (Potential memory leak).\n"
     ]
    }
   ],
   "source": [
    "FormFactor_resolution_add_wedge_1D ff_wResCut_1d_100(A,Vo,R,a0,t_min,t_max,bins,phi_min,phi_max,sigma100,r_min,r_max);"
   ]
  },
  {
   "cell_type": "code",
   "execution_count": 6,
   "id": "88df776d-015a-4e97-b5a6-dc8a438347c0",
   "metadata": {},
   "outputs": [
    {
     "name": "stderr",
     "output_type": "stream",
     "text": [
      "Warning in <TROOT::Append>: Replacing existing TH1: FF (Potential memory leak).\n"
     ]
    }
   ],
   "source": [
    "FormFactor_resolution_add_wedge_1D ff_wResCut_1d_150(A,Vo,R,a0,t_min,t_max,bins,phi_min,phi_max,sigma150,r_min,r_max);"
   ]
  },
  {
   "cell_type": "markdown",
   "id": "189c414f-956c-4593-a0ee-d1e2266a0941",
   "metadata": {},
   "source": [
    "### Compare TH1D histograms"
   ]
  },
  {
   "cell_type": "code",
   "execution_count": 7,
   "id": "3698ef44-dbf2-4942-9a66-2bea504280bb",
   "metadata": {},
   "outputs": [
    {
     "data": {
      "image/png": "[encoded data removed]",
      "text/plain": [
       "<IPython.core.display.Image object>"
      ]
     },
     "metadata": {},
     "output_type": "display_data"
    },
    {
     "name": "stderr",
     "output_type": "stream",
     "text": [
      "Info in <TCanvas::MakeDefCanvas>:  created default TCanvas with name c1\n"
     ]
    }
   ],
   "source": [
    "/*TH1D *ff_hist_5 = ff_wResCut_1d_5.getWedgeRes_hist_1D();\n",
    "    ff_hist_5->SetTitle(\"Histogram of |F(t)|^{2} with Resolution and #pi Wedge Cut\");\n",
    "    ff_hist_5->GetYaxis()->SetTitle(\"|F(t)|^{2}\");\n",
    "    ff_hist_5->GetXaxis()->SetTitle(\"t [GeV^{2}]\");\n",
    "    ff_hist_5->SetLineStyle(2);\n",
    "    ff_hist_5->SetLineColor(kBlue);\n",
    "    ff_hist_5->Scale(197./ff_hist_5->Integral(), \"width\");\n",
    "    ff_hist_5->Draw();\n",
    "*/\n",
    "TH1D *ff_hist_50 = ff_wResCut_1d_50.getWedgeRes_hist_1D();\n",
    "    ff_hist_50->SetTitle(\"Histogram of |F(t)|^{2} with Resolution and #pi Wedge Cut\");\n",
    "    ff_hist_50->GetYaxis()->SetTitle(\"|F(t)|^{2}\");\n",
    "    ff_hist_50->GetXaxis()->SetTitle(\"t [GeV^{2}]\");\n",
    "    ff_hist_50->SetLineStyle(3);\n",
    "    ff_hist_50->SetLineColor(kMagenta);\n",
    "    ff_hist_50->Scale(197./ff_hist_50->Integral(), \"width\");\n",
    "    ff_hist_50->Draw();\n",
    "\n",
    "TH1D *ff_hist_100 = ff_wResCut_1d_100.getWedgeRes_hist_1D();\n",
    "    ff_hist_100->SetLineStyle(4);\n",
    "    ff_hist_100->SetLineColor(kBlack);\n",
    "    ff_hist_100->Scale(197./ff_hist_100->Integral(), \"width\");\n",
    "    ff_hist_100->Draw(\"same\");\n",
    "\n",
    "TH1D *ff_hist_150 = ff_wResCut_1d_150.getWedgeRes_hist_1D();\n",
    "    ff_hist_150->SetLineStyle(2);\n",
    "    ff_hist_150->SetLineColor(kOrange);\n",
    "    ff_hist_150->Scale(197./ff_hist_150->Integral(), \"width\");\n",
    "    ff_hist_150->Draw(\"same\");\n",
    "\n",
    "TH1D *ff_true_hist = ff_1d.getFF_hist();\n",
    "    ff_true_hist->SetLineStyle(3);\n",
    "    ff_true_hist->SetLineColor(kRed);\n",
    "    ff_true_hist->Scale(197./ff_true_hist->Integral(), \"width\");\n",
    "    ff_true_hist->Draw(\"same\");\n",
    "\n",
    "auto legend = new TLegend(0.53,0.65,0.9,0.9);\n",
    "\t//legend->AddEntry(ff_hist_5,\"Form Factor with 5 MeV resolution\",\"l\");\n",
    "    legend->AddEntry(ff_hist_50,\"Form Factor with 50 MeV resolution\",\"l\");\n",
    "    legend->AddEntry(ff_hist_100,\"Form Factor with 100 MeV resolution\",\"l\");\n",
    "    legend->AddEntry(ff_hist_150,\"Form Factor with 150 MeV resolution\",\"l\");\n",
    "    legend->AddEntry(ff_true_hist,\"True Form Factor\",\"l\");\n",
    "    legend->Draw();\n",
    "\n",
    "gPad->SetLogy(1);\n",
    "gStyle->SetOptStat(0);\n",
    "c1->Draw();"
   ]
  },
  {
   "cell_type": "markdown",
   "id": "8d1a48ae-31f1-4061-9b50-24fb54d582d6",
   "metadata": {},
   "source": [
    "### Data from $\\phi$ saturation model plot scan"
   ]
  },
  {
   "cell_type": "code",
   "execution_count": 8,
   "id": "c080e323-3ac6-470c-8797-68914a92062d",
   "metadata": {},
   "outputs": [
    {
     "name": "stderr",
     "output_type": "stream",
     "text": [
      "Warning in <TROOT::Append>: Replacing existing TH1: FF_hist (Potential memory leak).\n",
      "Warning in <TROOT::Append>: Replacing existing TH1: transform_hist (Potential memory leak).\n"
     ]
    }
   ],
   "source": [
    "const int phi_bins = 72;\n",
    "double phi_sat_min = 0, phi_sat_max = .18;\n",
    "double phi_x_vals[phi_bins] = {0.00149180044251802,0.00414660644107207,0.00658017860641328,0.00901375077175449,0.0116685567703085,0.0141021289356497,0.0167569349342038,0.019190507099545,\n",
    "0.0216240792648862,0.0240576514302274,0.0264912235955686,0.0291460295941226,0.031358367926251,0.0340131739248051,0.0364467460901463,0.0388803182554875,0.0413138904208287,\n",
    "0.0437474625861699,0.0464022685847239,0.0488358407500651,0.0514906467486192,0.0539242189139604,0.0565790249125144,0.0587913632446428,0.0614461692431968,0.063879741408538,\n",
    "0.0663133135738793,0.0687468857392204,0.0714016917377745,0.0738352639031157,0.0762688360684569,0.078923642067011,0.0813572142323522,0.0837907863976934,0.0864455923962474,\n",
    "0.0888791645615886,0.0913127367269298,0.093746308892271,0.0961798810576122,0.0988346870561663,0.101268259221507,0.103701831386849,0.10613540355219,0.108347741884318,\n",
    "0.111223781716085,0.113657353881426,0.115869692213555,0.118745732045322,0.121400538043876,0.123391642542791,0.126267682374558,0.128480020706686,0.130913592872028,0.133568398870582,\n",
    "0.13578073720271,0.138656777034477,0.140869115366605,0.143523921365159,0.145736259697288,0.148391065695842,0.151045871694396,0.153479443859737,0.155913016025078,0.158346588190419,\n",
    "0.161001394188973,0.163213732521102,0.165868538519656,0.168302110684997,0.170735682850338,0.173390488848892,0.175824061014234,0.178257633179575};\n",
    "double phi_y_vals[phi_bins] = {558853.176136302,224087.526703047,77159.7780282615,21685.4626196854,3859.28092747389,469.329022940005,289.742995521137,760.224527180162,\n",
    "1470.8807418139,1802.07568265643,1669.9354709361,1434.01276162091,1170.46235898057,841.471980674726,519.487609780666,282.480517526656,122.231121530435,44.2796290689089,\n",
    "12.7645685962943,8.2906879074936,17.31009647318,34.352592563701,55.6447229185968,73.5686667137878,87.8747301398829,92.4512729862438,94.8281637591125,90.133959553294,\n",
    "79.3900768010247,68.1741212520722,54.2499745313981,42.0876893247695,31.8336312913207,22.312279620763,14.1287559597991,8.94672119409074,4.99001275499674,2.71340713225333,\n",
    "1.43847998384123,1.00823457225525,1.11598759598992,1.47546281479756,2.21472290755771,3.15981484859246,4.07292198289417,4.74299606783303,5.523310241139,6.11360281380503,\n",
    "6.59736568024521,6.59736568024521,6.43200111987633,5.96036388624306,5.523310241139,5.11830428512649,4.50820725397009,3.87130332084099,3.08061332807508,2.64539492870511,\n",
    "2.15921034425629,1.55230536986868,1.14467925737936,0.888053964582182,0.638442170129982,0.384266614281411,0.29811799949135,0.198608151462336,0.12899755970887,\n",
    "0.139204998947095,0.150220141959229,0.162106901482951,0.198608151462336,0.237229223974273,};\n",
    "\n",
    "// Initialize constructos to compare saturation model\n",
    "FormFactor_saturation_data phi_saturation(phi_bins,phi_x_vals,phi_y_vals);\n",
    "FormFactor_t_1D ff_phi(A,Vo,R,a0,phi_sat_min,phi_sat_max,phi_bins,r_min,r_max);"
   ]
  },
  {
   "cell_type": "markdown",
   "id": "aba7a5d0-f08d-4535-a03e-c0c75cb1a161",
   "metadata": {},
   "source": [
    "### Compare $\\phi$ saturation model with form factors of different resolutions"
   ]
  },
  {
   "cell_type": "markdown",
   "id": "b49e0299-151a-4e22-9c30-8c210d86844f",
   "metadata": {},
   "source": [
    "Need to add the parameters from the saturation data"
   ]
  },
  {
   "cell_type": "code",
   "execution_count": 9,
   "id": "17ed879b-6838-400f-9836-d17fa20c5769",
   "metadata": {},
   "outputs": [
    {
     "name": "stderr",
     "output_type": "stream",
     "text": [
      "Warning in <TROOT::Append>: Replacing existing TH1: FF (Potential memory leak).\n",
      "Warning in <TROOT::Append>: Replacing existing TH1: FF (Potential memory leak).\n",
      "Warning in <TROOT::Append>: Replacing existing TH1: FF (Potential memory leak).\n",
      "Warning in <TROOT::Append>: Replacing existing TH1: FF (Potential memory leak).\n"
     ]
    }
   ],
   "source": [
    "FormFactor_resolution_add_wedge_1D ff_wResCut_1d_5_phi(A,Vo,R,a0,phi_sat_min,phi_sat_max,phi_bins,phi_min,phi_max,sigma5,r_min,r_max);\n",
    "\n",
    "FormFactor_resolution_add_wedge_1D ff_wResCut_1d_50_phi(A,Vo,R,a0,phi_sat_min,phi_sat_max,phi_bins,phi_min,phi_max,sigma50,r_min,r_max);\n",
    "\n",
    "FormFactor_resolution_add_wedge_1D ff_wResCut_1d_100_phi(A,Vo,R,a0,phi_sat_min,phi_sat_max,phi_bins,phi_min,phi_max,sigma100,r_min,r_max);\n",
    "\n",
    "FormFactor_resolution_add_wedge_1D ff_wResCut_1d_150_phi(A,Vo,R,a0,phi_sat_min,phi_sat_max,phi_bins,phi_min,phi_max,sigma150,r_min,r_max);"
   ]
  },
  {
   "cell_type": "code",
   "execution_count": 10,
   "id": "abbb73b7-8fde-4a32-95a3-4a9fb491f567",
   "metadata": {},
   "outputs": [
    {
     "data": {
      "image/png": "[encoded data removed]",
      "text/plain": [
       "<IPython.core.display.Image object>"
      ]
     },
     "metadata": {},
     "output_type": "display_data"
    }
   ],
   "source": [
    "TH1D *ff_phi_5 = ff_wResCut_1d_5_phi.getWedgeRes_hist_1D();\n",
    "    ff_phi_5->SetTitle(\"Histogram of |F(t)|^{2} with Resolution and #pi Wedge Cut\");\n",
    "    ff_phi_5->GetYaxis()->SetTitle(\"|F(t)|^{2}\");\n",
    "    ff_phi_5->GetXaxis()->SetTitle(\"t [GeV^{2}]\");\n",
    "    ff_phi_5->SetLineStyle(2);\n",
    "    ff_phi_5->SetLineColor(kCyan);\n",
    "    ff_phi_5->Scale(197./ff_phi_5->Integral(), \"width\");\n",
    "    ff_phi_5->Draw();\n",
    "\n",
    "TH1D *ff_phi_50 = ff_wResCut_1d_50_phi.getWedgeRes_hist_1D();\n",
    "    ff_phi_50->SetLineStyle(3);\n",
    "    ff_phi_50->SetLineColor(kMagenta);\n",
    "    ff_phi_50->Scale(197./ff_phi_50->Integral(), \"width\");\n",
    "    ff_phi_50->Draw(\"same\");\n",
    "\n",
    "TH1D *ff_phi_100 = ff_wResCut_1d_100_phi.getWedgeRes_hist_1D();\n",
    "    ff_phi_100->SetLineStyle(4);\n",
    "    ff_phi_100->SetLineColor(kBlack);\n",
    "    ff_phi_100->Scale(197./ff_phi_100->Integral(), \"width\");\n",
    "    ff_phi_100->Draw(\"same\");\n",
    "\n",
    "TH1D *ff_phi_150 = ff_wResCut_1d_150_phi.getWedgeRes_hist_1D();\n",
    "    ff_phi_150->SetLineStyle(2);\n",
    "    ff_phi_150->SetLineColor(kOrange);\n",
    "    ff_phi_150->Scale(197./ff_phi_150->Integral(), \"width\");\n",
    "    ff_phi_150->Draw(\"same\");\n",
    "\n",
    "TH1D *ff_true_phi = ff_phi.getFF_hist();\n",
    "    ff_true_phi->SetLineStyle(3);\n",
    "    ff_true_phi->SetLineColor(kRed);\n",
    "    ff_true_phi->Scale(197./ff_true_phi->Integral(), \"width\");\n",
    "    ff_true_phi->Draw(\"same\");\n",
    "\n",
    "TH1D *ff_phi_sat = phi_saturation.getHist();\n",
    "    ff_phi_sat->SetLineStyle(1);\n",
    "    ff_phi_sat->SetLineColor(kBlue);\n",
    "    ff_phi_sat->Scale(197./ff_phi_sat->Integral(), \"width\");\n",
    "    for (int i = 1; i <= ff_phi_sat->GetNbinsX(); ++i)\n",
    "    { \n",
    "        ff_phi_sat->SetBinError(i, 0); // Setting error bars to zero \n",
    "    }\n",
    "    ff_phi_sat->Draw(\"same\");\n",
    "\n",
    "auto legend = new TLegend(0.53,0.65,0.9,0.9);\n",
    "\tlegend->AddEntry(ff_phi_5,\"Form Factor with 5 MeV resolution\",\"l\");\n",
    "    legend->AddEntry(ff_phi_50,\"Form Factor with 50 MeV resolution\",\"l\");\n",
    "    legend->AddEntry(ff_phi_100,\"Form Factor with 100 MeV resolution\",\"l\");\n",
    "    legend->AddEntry(ff_phi_150,\"Form Factor with 150 MeV resolution\",\"l\");\n",
    "    legend->AddEntry(ff_true_phi,\"True Form Factor\",\"l\");\n",
    "    legend->AddEntry(ff_phi_sat,\"#phi Saturation Model\",\"l\");\n",
    "    legend->Draw();\n",
    "\n",
    "gPad->SetLogy(1);\n",
    "gStyle->SetOptStat(0);\n",
    "c1->Draw();"
   ]
  },
  {
   "cell_type": "markdown",
   "id": "54c14107-638f-4675-ab99-d922b364e82a",
   "metadata": {
    "tags": []
   },
   "source": [
    "### Data from $J/\\psi$ saturation model plot scan"
   ]
  },
  {
   "cell_type": "code",
   "execution_count": 11,
   "id": "af97ca53-a315-44c4-a68c-4a39e84fc97a",
   "metadata": {},
   "outputs": [
    {
     "name": "stderr",
     "output_type": "stream",
     "text": [
      "Warning in <TROOT::Append>: Replacing existing TH1: hist (Potential memory leak).\n",
      "Warning in <TROOT::Append>: Replacing existing TH1: FF_hist (Potential memory leak).\n",
      "Warning in <TROOT::Append>: Replacing existing TH1: transform_hist (Potential memory leak).\n"
     ]
    }
   ],
   "source": [
    "const int Jpsi_bins = 70;\n",
    "double Jpsi_min = 0, Jpsi_max = .18;\n",
    "double Jpsi_x_vals[Jpsi_bins] = {0.00136281334124255, 0.00417373659242085, 0.00679726496018727, 0.0090460035611299, 0.0114821370454844, 0.0141056654132508, 0.0165417988976054, 0.0189779323819599,\n",
    "0.0216014607497263, 0.0240375942340808, 0.0266611226018472, 0.0339695230549108, 0.0364056565392653, 0.0390291849070318, 0.0414653183913863, 0.0439014518757408,\n",
    "0.0465249802435072, 0.0487737188444499, 0.0513972472122163, 0.0538333806965708, 0.0564569090643372, 0.0588930425486917, 0.0613291760330463, 0.0637653095174008,\n",
    "0.0662014430017553, 0.0686375764861098, 0.0712611048538762, 0.0736972383382308, 0.0763207667059972, 0.0787569001903517, 0.0811930336747062, 0.0838165620424727,\n",
    "0.0862526955268272, 0.0886888290111817, 0.0913123573789481, 0.0937484908633026, 0.0961846243476572, 0.0986207578320117, 0.101056891316366, 0.103680419684133,\n",
    "0.106116553168487, 0.108552686652842, 0.110988820137196, 0.113612348504963, 0.116048481989317, 0.118484615473672, 0.120920748958026, 0.123356882442381,\n",
    "0.125980410810147, 0.12822914941109, 0.131040072662268, 0.133288811263211, 0.135912339630977, 0.138348473115332, 0.140784606599686, 0.143408134967453,\n",
    "0.145844268451807, 0.148467796819574, 0.150903930303928, 0.153340063788283, 0.155776197272637, 0.158399725640404, 0.160835859124758, 0.163271992609113,\n",
    "0.165895520976879, 0.168331654461233, 0.170767787945588, 0.173391316313354, 0.175640054914297, 0.178076188398652};\n",
    "double Jpsi_y_vals[Jpsi_bins] = {13448.9218102926, 6937.46196167787, 3204.7878500576, 1305.08427031405, 446.872520224438, 103.18239774925, 8.55278296449268,\n",
    "11.005917498039, 31.6399824551623, 54.9298751813913, 66.3663164066068, 60.3779220946169, 46.9201466951133, 32.653225248372, 21.3360051124315,\n",
    "12.4849168326106, 6.24035001776384, 2.58162492032996, 0.912279863030455, 0.596094495215495, 1.1375147582384, 2.17069581349244, 3.37486862233193,\n",
    "4.3428584331333, 5.16499432428701, 5.58848994755982, 5.7674564552788, 5.67726804222898, 5.41507684299759, 4.84942389709097, 4.14229378615772,\n",
    "3.48294584122589, 2.83767526873991, 2.17069581349244, 1.60896053571582, 1.15558518403178, 0.779253636732963, 0.485658601659348, 0.288701178756081,\n",
    "0.163693431856085, 0.110384508079367, 0.100424245161287, 0.148922974953952, 0.197774527183426, 0.27106213627279, 0.343354491666976, 0.408354089359272,\n",
    "0.470588418718807, 0.525479418352291, 0.533827122649325, 0.586773086901781, 0.577597441807907, 0.568565280566255, 0.533827122649325, 0.525479418352291,\n",
    "0.493373717141273, 0.434927240554336, 0.377409027059443, 0.322376245262033, 0.27974266435082, 0.238951332128076, 0.188640778332054, 0.151288747835883,\n",
    "0.123260124544862, 0.0885276988118201, 0.06258796389094, 0.0486375871383818, 0.032285236309424, 0.0250891049438687, 0.0191920533212076};\n",
    "\n",
    "// Initialize constructos to compare saturation model\n",
    "FormFactor_saturation_data Jpsi_saturation(Jpsi_bins,Jpsi_x_vals,Jpsi_y_vals);\n",
    "FormFactor_t_1D ff_Jpsi(A,Vo,R,a0,Jpsi_min,Jpsi_max,Jpsi_bins,r_min,r_max);"
   ]
  },
  {
   "cell_type": "code",
   "execution_count": 12,
   "id": "c4876992-073b-47e5-bf1c-56a81bd0a008",
   "metadata": {},
   "outputs": [
    {
     "name": "stderr",
     "output_type": "stream",
     "text": [
      "Warning in <TROOT::Append>: Replacing existing TH1: FF (Potential memory leak).\n",
      "Warning in <TROOT::Append>: Replacing existing TH1: FF (Potential memory leak).\n",
      "Warning in <TROOT::Append>: Replacing existing TH1: FF (Potential memory leak).\n",
      "Warning in <TROOT::Append>: Replacing existing TH1: FF (Potential memory leak).\n"
     ]
    }
   ],
   "source": [
    "FormFactor_resolution_add_wedge_1D ff_wResCut_1d_5_Jpsi(A,Vo,R,a0,Jpsi_min,Jpsi_max,Jpsi_bins,phi_min,phi_max,sigma5,r_min,r_max);\n",
    "\n",
    "FormFactor_resolution_add_wedge_1D ff_wResCut_1d_50_Jpsi(A,Vo,R,a0,Jpsi_min,Jpsi_max,Jpsi_bins,phi_min,phi_max,sigma50,r_min,r_max);\n",
    "\n",
    "FormFactor_resolution_add_wedge_1D ff_wResCut_1d_100_Jpsi(A,Vo,R,a0,Jpsi_min,Jpsi_max,Jpsi_bins,phi_min,phi_max,sigma100,r_min,r_max);\n",
    "\n",
    "FormFactor_resolution_add_wedge_1D ff_wResCut_1d_150_Jpsi(A,Vo,R,a0,Jpsi_min,Jpsi_max,Jpsi_bins,phi_min,phi_max,sigma150,r_min,r_max);"
   ]
  },
  {
   "cell_type": "markdown",
   "id": "22142c8b-3904-4f81-bdbf-02b375f50b49",
   "metadata": {},
   "source": [
    "### Compare $J/\\psi$ saturation model with form factors of different resolutions¶"
   ]
  },
  {
   "cell_type": "code",
   "execution_count": 13,
   "id": "9bb99add-ab87-4492-ab41-e9a39da6437b",
   "metadata": {},
   "outputs": [
    {
     "data": {
      "image/png": "[encoded data removed]",
      "text/plain": [
       "<IPython.core.display.Image object>"
      ]
     },
     "metadata": {},
     "output_type": "display_data"
    }
   ],
   "source": [
    "TH1D *ff_Jpsi_5 = ff_wResCut_1d_5_Jpsi.getWedgeRes_hist_1D();\n",
    "    ff_Jpsi_5->SetTitle(\"Histogram of |F(t)|^{2} with Resolution and #pi Wedge Cut\");\n",
    "    ff_Jpsi_5->GetYaxis()->SetTitle(\"|F(t)|^{2}\");\n",
    "    ff_Jpsi_5->GetXaxis()->SetTitle(\"t [GeV^{2}]\");\n",
    "    ff_Jpsi_5->SetLineStyle(2);\n",
    "    ff_Jpsi_5->SetLineColor(kCyan);\n",
    "    ff_Jpsi_5->Scale(197./ff_Jpsi_5->Integral(), \"width\");\n",
    "    ff_Jpsi_5->Draw();\n",
    "\n",
    "TH1D *ff_Jpsi_50 = ff_wResCut_1d_50_Jpsi.getWedgeRes_hist_1D();\n",
    "    ff_Jpsi_50->SetLineStyle(3);\n",
    "    ff_Jpsi_50->SetLineColor(kMagenta);\n",
    "    ff_Jpsi_50->Scale(197./ff_Jpsi_50->Integral(), \"width\");\n",
    "    ff_Jpsi_50->Draw(\"same\");\n",
    "\n",
    "TH1D *ff_Jpsi_100 = ff_wResCut_1d_100_Jpsi.getWedgeRes_hist_1D();\n",
    "    ff_Jpsi_100->SetLineStyle(4);\n",
    "    ff_Jpsi_100->SetLineColor(kBlack);\n",
    "    ff_Jpsi_100->Scale(197./ff_Jpsi_100->Integral(), \"width\");\n",
    "    ff_Jpsi_100->Draw(\"same\");\n",
    "\n",
    "TH1D *ff_Jpsi_150 = ff_wResCut_1d_150_Jpsi.getWedgeRes_hist_1D();\n",
    "    ff_Jpsi_150->SetLineStyle(2);\n",
    "    ff_Jpsi_150->SetLineColor(kOrange);\n",
    "    ff_Jpsi_150->Scale(197./ff_Jpsi_150->Integral(), \"width\");\n",
    "    ff_Jpsi_150->Draw(\"same\");\n",
    "\n",
    "TH1D *ff_true_Jpsi = ff_Jpsi.getFF_hist();\n",
    "    ff_true_Jpsi->SetLineStyle(3);\n",
    "    ff_true_Jpsi->SetLineColor(kRed);\n",
    "    ff_true_Jpsi->Scale(197./ff_true_Jpsi->Integral(), \"width\");\n",
    "    ff_true_Jpsi->Draw(\"same\");\n",
    "\n",
    "TH1D *ff_Jpsi_sat = Jpsi_saturation.getHist();\n",
    "    ff_Jpsi_sat->SetLineStyle(1);\n",
    "    ff_Jpsi_sat->SetLineColor(kBlue);\n",
    "    ff_Jpsi_sat->Scale(197./ff_Jpsi_sat->Integral(), \"width\");\n",
    "    for (int i = 1; i <= ff_Jpsi_sat->GetNbinsX(); ++i)\n",
    "    { \n",
    "        ff_Jpsi_sat->SetBinError(i, 0); // Setting error bars to zero \n",
    "    }\n",
    "    ff_Jpsi_sat->Draw(\"same\");\n",
    "\n",
    "auto legend = new TLegend(0.53,0.65,0.9,0.9);\n",
    "\tlegend->AddEntry(ff_Jpsi_5,\"Form Factor with 5 MeV resolution\",\"l\");\n",
    "    legend->AddEntry(ff_Jpsi_50,\"Form Factor with 50 MeV resolution\",\"l\");\n",
    "    legend->AddEntry(ff_Jpsi_100,\"Form Factor with 100 MeV resolution\",\"l\");\n",
    "    legend->AddEntry(ff_Jpsi_150,\"Form Factor with 150 MeV resolution\",\"l\");\n",
    "    legend->AddEntry(ff_true_Jpsi,\"True Form Factor\",\"l\");\n",
    "    legend->AddEntry(ff_Jpsi_sat,\"J/#psi Saturation Model\",\"l\");\n",
    "    legend->Draw();\n",
    "\n",
    "gPad->SetLogy(1);\n",
    "gStyle->SetOptStat(0);\n",
    "c1->Draw();"
   ]
  },
  {
   "cell_type": "markdown",
   "id": "5bc62e20-3cf2-44be-a0f2-c71db89cfcc9",
   "metadata": {},
   "source": [
    "### 1D comparisons between the transformations of form factors to position space with different resolutions"
   ]
  },
  {
   "cell_type": "code",
   "execution_count": 4,
   "id": "d117f3bc-7a83-47ae-841c-9bf498f98f0b",
   "metadata": {},
   "outputs": [],
   "source": [
    "FormFactor_transform_resolution_add_wedge_1D ff_transform;"
   ]
  },
  {
   "cell_type": "code",
   "execution_count": null,
   "id": "ea3909b5-425c-4fb5-8b47-3db408cb5ae6",
   "metadata": {},
   "outputs": [],
   "source": [
    "FormFactor_resolution_add_wedge_1D ff_wResCut_1d_5_Jpsi(A,Vo,R,a0,Jpsi_min,Jpsi_max,Jpsi_bins,phi_min,phi_max,sigma5,r_min,r_max);\n",
    "\n",
    "FormFactor_resolution_add_wedge_1D ff_wResCut_1d_50_Jpsi(A,Vo,R,a0,Jpsi_min,Jpsi_max,Jpsi_bins,phi_min,phi_max,sigma50,r_min,r_max);\n",
    "\n",
    "FormFactor_resolution_add_wedge_1D ff_wResCut_1d_100_Jpsi(A,Vo,R,a0,Jpsi_min,Jpsi_max,Jpsi_bins,phi_min,phi_max,sigma100,r_min,r_max);\n",
    "\n",
    "FormFactor_resolution_add_wedge_1D ff_wResCut_1d_150_Jpsi(A,Vo,R,a0,Jpsi_min,Jpsi_max,Jpsi_bins,phi_min,phi_max,sigma150,r_min,r_max);"
   ]
  },
  {
   "cell_type": "code",
   "execution_count": null,
   "id": "e218dba5-d246-4488-89c3-7832cc6ac5bb",
   "metadata": {},
   "outputs": [],
   "source": [
    "double trans_bins = 10;\n",
    "double sigma5 = 0.005;\n",
    "double sigma50 = 0.05;\n",
    "double sigma100 = 0.1;\n",
    "double sigma150 = 0.15;\n",
    "/*\n",
    "// resolution so small that it makes it crash to add this with the rest\n",
    "TH1D *ff_transform_5 = ff_transform.transform_FF_to_G_hist(phi_min,phi_max,sigma5,r_min,r_max,trans_bins);\n",
    "    ff_transform_5->SetTitle(\"Histogram of |F(t)|^{2} -> G(r) Transformation with Resolution and #phi = #pi/9 Cut\");\n",
    "    ff_transform_5->GetYaxis()->SetTitle(\"G(r) [fm^{-3}]\");\n",
    "    ff_transform_5->GetXaxis()->SetTitle(\"r [fm]\");\n",
    "    ff_transform_5->SetLineStyle(2);\n",
    "    ff_transform_5->SetLineColor(kBlue);\n",
    "    ff_transform_5->Scale(197./ff_transform_5->Integral(), \"width\");\n",
    "    ff_transform_5->Draw();\n",
    "\n",
    "TH1D *ff_transform_50 = ff_transform.transform_FF_to_G_hist(phi_min,phi_max,sigma50,r_min,r_max,trans_bins);\n",
    "    ff_transform_50->SetTitle(\"Histogram of |F(t)|^{2} -> G(r) Transformation with Resolution and #phi = #pi Cut\");\n",
    "    ff_transform_50->GetYaxis()->SetTitle(\"G(r) [fm^{-3}]\");\n",
    "    ff_transform_50->GetXaxis()->SetTitle(\"r [fm]\");\n",
    "    ff_transform_50->GetYaxis()->SetRangeUser(0,40);\n",
    "    ff_transform_50->SetLineStyle(3);\n",
    "    ff_transform_50->SetLineColor(kMagenta);\n",
    "    ff_transform_50->Scale(197./ff_transform_50->Integral(), \"width\");\n",
    "    ff_transform_50->Draw();\n",
    "\n",
    "TH1D *ff_transform_100 = ff_transform.transform_FF_to_G_hist(phi_min,phi_max,sigma100,r_min,r_max,trans_bins);\n",
    "    ff_transform_100->GetYaxis()->SetRangeUser(0,40);\n",
    "    ff_transform_100->SetLineStyle(4);\n",
    "    ff_transform_100->SetLineColor(kBlack);\n",
    "    ff_transform_100->Scale(197./ff_transform_100->Integral(), \"width\");\n",
    "    ff_transform_100->Draw(\"same\");\n",
    "*/\n",
    "TH1D *ff_transform_150 = ff_transform.transform_FF_to_G_hist(phi_min,phi_max,sigma150,r_min,r_max,trans_bins);\n",
    "    ff_transform_150->GetYaxis()->SetRangeUser(0,40);\n",
    "    ff_transform_150->SetLineStyle(2);\n",
    "    ff_transform_150->SetLineColor(kPink);\n",
    "    ff_transform_150->Scale(197./ff_transform_150->Integral(), \"width\");\n",
    "    ff_transform_150->Draw(\"same\");\n",
    "\n",
    "TH1D *ff_true_transform = ff_1d.getTransformedFF_hist();\n",
    "    ff_true_transform->GetYaxis()->SetRangeUser(0,40);\n",
    "    ff_true_transform->SetLineStyle(3);\n",
    "    ff_true_transform->SetLineColor(kRed);\n",
    "    ff_true_transform->Scale(197./ff_true_transform->Integral(), \"width\");\n",
    "    ff_true_transform->Draw(\"same\");\n",
    "\n",
    "TH1D *ws_true = ws_1d.getWS_hist();\n",
    "    ws_true->GetYaxis()->SetRangeUser(0,40);\n",
    "    ws_true->SetLineStyle(3);\n",
    "    ws_true->SetLineColor(kCyan);\n",
    "    ws_true->Scale(197./ws_true->Integral(), \"width\");\n",
    "    ws_true->Draw(\"same\");\n",
    "\n",
    "auto legend = new TLegend(0.53,0.65,0.9,0.9);\n",
    "\t//legend->AddEntry(ff_transform_5,\"FF with 5 MeV resolution\",\"l\");\n",
    "    legend->AddEntry(ff_transform_50,\"FF with 50 MeV resolution\",\"l\");\n",
    "    legend->AddEntry(ff_transform_100,\"FF with 100 MeV resolution\",\"l\");\n",
    "    legend->AddEntry(ff_transform_150,\"FF with 150 MeV resolution\",\"l\");\n",
    "    legend->AddEntry(ff_true_transform,\"True FF to G\",\"l\");\n",
    "    legend->AddEntry(ws_true,\"True Woods-Saxon\",\"l\");\n",
    "    legend->Draw();\n",
    "\n",
    "gPad->SetLogy(0);\n",
    "gStyle->SetOptStat(0);\n",
    "c1->Draw();"
   ]
  },
  {
   "cell_type": "code",
   "execution_count": null,
   "id": "2d78ae57-c3ee-4b5c-b572-35af7f1e1c35",
   "metadata": {},
   "outputs": [],
   "source": []
  }
 ],
 "metadata": {
  "kernelspec": {
   "display_name": "sPHENIX ROOT C++",
   "language": "c++",
   "name": "sphenix-root"
  },
  "language_info": {
   "codemirror_mode": "text/x-c++src",
   "file_extension": ".C",
   "mimetype": " text/x-c++src",
   "name": "c++"
  }
 },
 "nbformat": 4,
 "nbformat_minor": 5
}
