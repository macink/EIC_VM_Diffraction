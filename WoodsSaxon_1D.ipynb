{
 "cells": [
  {
   "cell_type": "markdown",
   "id": "10e1c026-0714-4a5c-ab75-f9afdc196a4e",
   "metadata": {},
   "source": [
    "# Woods-Saxon density distribution functions"
   ]
  },
  {
   "cell_type": "code",
   "execution_count": 1,
   "id": "1a028e9a-2df4-4ff3-88ea-5cd24a38b261",
   "metadata": {},
   "outputs": [],
   "source": [
    "#include \"WoodsSaxon_1D.h\""
   ]
  },
  {
   "cell_type": "markdown",
   "id": "6e63c04d-82b5-4729-bf78-8caa8d9091b0",
   "metadata": {},
   "source": [
    "### Parameters for the functions used below"
   ]
  },
  {
   "cell_type": "code",
   "execution_count": 2,
   "id": "736a5655-c766-4176-bfb3-f342a62cb71e",
   "metadata": {},
   "outputs": [],
   "source": [
    "double Vo = 2.12, R = 6.38, a = 0.535, r_min = 0, r_max = 10;\n",
    "double bins = 1000, t_min = 0, t_max = 0.25;\n",
    "\n",
    "// Initialize constructor\n",
    "WoodsSaxon_1D ws_init(Vo,R,a,r_min,r_max,bins,t_min,t_max);"
   ]
  },
  {
   "cell_type": "code",
   "execution_count": 4,
   "id": "2e27608f-754e-465b-819e-fef571779daf",
   "metadata": {},
   "outputs": [
    {
     "name": "stderr",
     "output_type": "stream",
     "text": [
      "Info in <TCanvas::MakeDefCanvas>:  created default TCanvas with name c1\n"
     ]
    }
   ],
   "source": [
    "TF1 *WS_fun = ws_init.getWoodsSaxon1D();\n",
    "    WS_fun->GetYaxis()->SetTitle(\"G(r) [fm^{-3}]\");\n",
    "    WS_fun->GetXaxis()->SetTitle(\"r [fm]\");\n",
    "    WS_fun->Draw();"
   ]
  },
  {
   "cell_type": "code",
   "execution_count": 5,
   "id": "de45e93a-bfa2-4a74-b663-a5fef3e35a39",
   "metadata": {},
   "outputs": [
    {
     "data": {
      "image/png": "[encoded data removed]",
      "text/plain": [
       "<IPython.core.display.Image object>"
      ]
     },
     "metadata": {},
     "output_type": "display_data"
    }
   ],
   "source": [
    "c1->Draw();"
   ]
  },
  {
   "cell_type": "code",
   "execution_count": null,
   "id": "da226b57-d569-4d87-acdf-2a1ba7659bdc",
   "metadata": {},
   "outputs": [],
   "source": []
  },
  {
   "cell_type": "code",
   "execution_count": null,
   "id": "8895b103-2df4-4b42-b7a0-0699adb44031",
   "metadata": {},
   "outputs": [],
   "source": []
  },
  {
   "cell_type": "code",
   "execution_count": null,
   "id": "82c0f11b-f3db-41ea-8298-bc683b9d506b",
   "metadata": {},
   "outputs": [],
   "source": []
  },
  {
   "cell_type": "code",
   "execution_count": null,
   "id": "c5edc3c9-efb0-4491-8eed-9b66c77c3c6d",
   "metadata": {},
   "outputs": [],
   "source": []
  }
 ],
 "metadata": {
  "kernelspec": {
   "display_name": "ROOT C++",
   "language": "c++",
   "name": "root"
  },
  "language_info": {
   "codemirror_mode": "text/x-c++src",
   "file_extension": ".C",
   "mimetype": " text/x-c++src",
   "name": "c++"
  }
 },
 "nbformat": 4,
 "nbformat_minor": 5
}
